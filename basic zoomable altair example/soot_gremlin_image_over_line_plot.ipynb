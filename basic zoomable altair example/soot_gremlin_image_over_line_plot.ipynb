{
 "cells": [
  {
   "cell_type": "markdown",
   "metadata": {},
   "source": [
    "# Embedding Images in Altair\n",
    "This is a very basic example of how to embed images in altair. This could be useful when trying to create complex summary visualizations of clusters in the data and overlaying them in the scatterplot over the clusters."
   ]
  },
  {
   "cell_type": "code",
   "execution_count": 8,
   "metadata": {},
   "outputs": [
    {
     "data": {
      "text/html": [
       "\n",
       "<div id=\"altair-viz-4cd6de4040e54f8994638877eca0e268\"></div>\n",
       "<script type=\"text/javascript\">\n",
       "  var VEGA_DEBUG = (typeof VEGA_DEBUG == \"undefined\") ? {} : VEGA_DEBUG;\n",
       "  (function(spec, embedOpt){\n",
       "    let outputDiv = document.currentScript.previousElementSibling;\n",
       "    if (outputDiv.id !== \"altair-viz-4cd6de4040e54f8994638877eca0e268\") {\n",
       "      outputDiv = document.getElementById(\"altair-viz-4cd6de4040e54f8994638877eca0e268\");\n",
       "    }\n",
       "    const paths = {\n",
       "      \"vega\": \"https://cdn.jsdelivr.net/npm//vega@5?noext\",\n",
       "      \"vega-lib\": \"https://cdn.jsdelivr.net/npm//vega-lib?noext\",\n",
       "      \"vega-lite\": \"https://cdn.jsdelivr.net/npm//vega-lite@4.17.0?noext\",\n",
       "      \"vega-embed\": \"https://cdn.jsdelivr.net/npm//vega-embed@6?noext\",\n",
       "    };\n",
       "\n",
       "    function maybeLoadScript(lib, version) {\n",
       "      var key = `${lib.replace(\"-\", \"\")}_version`;\n",
       "      return (VEGA_DEBUG[key] == version) ?\n",
       "        Promise.resolve(paths[lib]) :\n",
       "        new Promise(function(resolve, reject) {\n",
       "          var s = document.createElement('script');\n",
       "          document.getElementsByTagName(\"head\")[0].appendChild(s);\n",
       "          s.async = true;\n",
       "          s.onload = () => {\n",
       "            VEGA_DEBUG[key] = version;\n",
       "            return resolve(paths[lib]);\n",
       "          };\n",
       "          s.onerror = () => reject(`Error loading script: ${paths[lib]}`);\n",
       "          s.src = paths[lib];\n",
       "        });\n",
       "    }\n",
       "\n",
       "    function showError(err) {\n",
       "      outputDiv.innerHTML = `<div class=\"error\" style=\"color:red;\">${err}</div>`;\n",
       "      throw err;\n",
       "    }\n",
       "\n",
       "    function displayChart(vegaEmbed) {\n",
       "      vegaEmbed(outputDiv, spec, embedOpt)\n",
       "        .catch(err => showError(`Javascript Error: ${err.message}<br>This usually means there's a typo in your chart specification. See the javascript console for the full traceback.`));\n",
       "    }\n",
       "\n",
       "    if(typeof define === \"function\" && define.amd) {\n",
       "      requirejs.config({paths});\n",
       "      require([\"vega-embed\"], displayChart, err => showError(`Error loading script: ${err.message}`));\n",
       "    } else {\n",
       "      maybeLoadScript(\"vega\", \"5\")\n",
       "        .then(() => maybeLoadScript(\"vega-lite\", \"4.17.0\"))\n",
       "        .then(() => maybeLoadScript(\"vega-embed\", \"6\"))\n",
       "        .catch(showError)\n",
       "        .then(() => displayChart(vegaEmbed));\n",
       "    }\n",
       "  })({\"config\": {\"view\": {\"continuousWidth\": 400, \"continuousHeight\": 300}}, \"layer\": [{\"data\": {\"name\": \"data-201352073d6c8a4a6c2660d9acde15e0\"}, \"mark\": \"line\", \"encoding\": {\"x\": {\"field\": \"x\", \"type\": \"quantitative\"}, \"y\": {\"field\": \"y\", \"type\": \"quantitative\"}}, \"height\": 300, \"selection\": {\"selector003\": {\"type\": \"interval\", \"bind\": \"scales\"}}, \"title\": \"Coal Revenue, Soot Gremlin Performance\", \"width\": 400}, {\"data\": {\"name\": \"data-06ab723a43a1c9e256ff5207f9d182e3\"}, \"mark\": {\"type\": \"image\", \"height\": 150, \"width\": 150}, \"encoding\": {\"url\": {\"field\": \"img\", \"type\": \"nominal\"}, \"x\": {\"field\": \"x\", \"type\": \"quantitative\"}, \"y\": {\"field\": \"y\", \"type\": \"quantitative\"}}}], \"$schema\": \"https://vega.github.io/schema/vega-lite/v4.17.0.json\", \"datasets\": {\"data-201352073d6c8a4a6c2660d9acde15e0\": [{\"x\": 0, \"y\": 0}, {\"x\": 1, \"y\": 1}, {\"x\": 2, \"y\": 4}, {\"x\": 3, \"y\": 9}, {\"x\": 4, \"y\": 16}, {\"x\": 5, \"y\": 25}], \"data-06ab723a43a1c9e256ff5207f9d182e3\": [{\"x\": 4, \"y\": 16, \"img\": \"susuwatari_soot_gremlin.jpg\"}]}}, {\"mode\": \"vega-lite\"});\n",
       "</script>"
      ],
      "text/plain": [
       "alt.LayerChart(...)"
      ]
     },
     "metadata": {},
     "output_type": "display_data"
    }
   ],
   "source": [
    "import altair as alt\n",
    "import pandas as pd\n",
    "\n",
    "# Data for the line plot\n",
    "line_data = pd.DataFrame({\n",
    "    'x': [0, 1, 2, 3, 4, 5],\n",
    "    'y': [0, 1, 4, 9, 16, 25]\n",
    "})\n",
    "\n",
    "# Data for the image points\n",
    "image_data = pd.DataFrame({\n",
    "    'x': [4],\n",
    "    'y': [16],\n",
    "    'img': [\n",
    "        \"susuwatari_soot_gremlin.jpg\"\n",
    "    ]\n",
    "})\n",
    "\n",
    "# Define a selection interval\n",
    "selection = alt.selection_interval(bind='scales')\n",
    "\n",
    "# Create a line chart\n",
    "line = alt.Chart(line_data).mark_line().encode(\n",
    "    x='x',\n",
    "    y='y'\n",
    ").properties(\n",
    "    width=400,\n",
    "    height=300,\n",
    "    title='Coal Revenue, Soot Gremlin Performance'\n",
    ").add_selection(\n",
    "    selection\n",
    ")\n",
    "\n",
    "# Create an image plot\n",
    "image_plot = alt.Chart(image_data).mark_image(\n",
    "    width=150,\n",
    "    height=150\n",
    ").encode(\n",
    "    x='x',\n",
    "    y='y',\n",
    "    url='img'\n",
    ")\n",
    "\n",
    "# Combine and display the plots\n",
    "(line + image_plot).display()\n"
   ]
  }
 ],
 "metadata": {
  "kernelspec": {
   "display_name": "py38",
   "language": "python",
   "name": "python3"
  },
  "language_info": {
   "codemirror_mode": {
    "name": "ipython",
    "version": 3
   },
   "file_extension": ".py",
   "mimetype": "text/x-python",
   "name": "python",
   "nbconvert_exporter": "python",
   "pygments_lexer": "ipython3",
   "version": "3.8.13"
  }
 },
 "nbformat": 4,
 "nbformat_minor": 2
}
